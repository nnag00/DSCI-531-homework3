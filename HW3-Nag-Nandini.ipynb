{
 "cells": [
  {
   "cell_type": "markdown",
   "id": "38cb824b",
   "metadata": {},
   "source": [
    "# HW3 - Measuring Gender Bias in Pretrained Language Model on Named Entity Recognition - DSCI 531 - Spring 2023\n",
    "\n",
    "### Please complete the code or analysis under “TODO”. 100pts in total. You should run every cell and keep all the outputs before submitting. Failing to include your outputs will result in zero points.\n",
    "\n",
    "### Please keep in mind the academic integrity. Plagiarism will be taken seriously."
   ]
  },
  {
   "cell_type": "markdown",
   "id": "ef2f157c-4411-43ba-831d-84d223050d3a",
   "metadata": {},
   "source": [
    "## Name: Nandini Nag\n",
    "\n",
    "## USC ID: 8309782868"
   ]
  },
  {
   "cell_type": "markdown",
   "id": "6cf4971f",
   "metadata": {},
   "source": [
    "## Example of using a finetuned BERT on NER"
   ]
  },
  {
   "cell_type": "code",
   "execution_count": 2,
   "id": "683c9413-e214-4d21-849f-535000ee68d2",
   "metadata": {},
   "outputs": [
    {
     "name": "stdout",
     "output_type": "stream",
     "text": [
      "Requirement already satisfied: transformers in /opt/anaconda3/lib/python3.12/site-packages (4.49.0)\n",
      "Requirement already satisfied: filelock in /opt/anaconda3/lib/python3.12/site-packages (from transformers) (3.13.1)\n",
      "Requirement already satisfied: huggingface-hub<1.0,>=0.26.0 in /opt/anaconda3/lib/python3.12/site-packages (from transformers) (0.29.1)\n",
      "Requirement already satisfied: numpy>=1.17 in /opt/anaconda3/lib/python3.12/site-packages (from transformers) (1.26.4)\n",
      "Requirement already satisfied: packaging>=20.0 in /opt/anaconda3/lib/python3.12/site-packages (from transformers) (24.1)\n",
      "Requirement already satisfied: pyyaml>=5.1 in /opt/anaconda3/lib/python3.12/site-packages (from transformers) (6.0.1)\n",
      "Requirement already satisfied: regex!=2019.12.17 in /opt/anaconda3/lib/python3.12/site-packages (from transformers) (2024.9.11)\n",
      "Requirement already satisfied: requests in /opt/anaconda3/lib/python3.12/site-packages (from transformers) (2.32.3)\n",
      "Requirement already satisfied: tokenizers<0.22,>=0.21 in /opt/anaconda3/lib/python3.12/site-packages (from transformers) (0.21.0)\n",
      "Requirement already satisfied: safetensors>=0.4.1 in /opt/anaconda3/lib/python3.12/site-packages (from transformers) (0.5.3)\n",
      "Requirement already satisfied: tqdm>=4.27 in /opt/anaconda3/lib/python3.12/site-packages (from transformers) (4.66.5)\n",
      "Requirement already satisfied: fsspec>=2023.5.0 in /opt/anaconda3/lib/python3.12/site-packages (from huggingface-hub<1.0,>=0.26.0->transformers) (2024.6.1)\n",
      "Requirement already satisfied: typing-extensions>=3.7.4.3 in /opt/anaconda3/lib/python3.12/site-packages (from huggingface-hub<1.0,>=0.26.0->transformers) (4.11.0)\n",
      "Requirement already satisfied: charset-normalizer<4,>=2 in /opt/anaconda3/lib/python3.12/site-packages (from requests->transformers) (3.3.2)\n",
      "Requirement already satisfied: idna<4,>=2.5 in /opt/anaconda3/lib/python3.12/site-packages (from requests->transformers) (3.7)\n",
      "Requirement already satisfied: urllib3<3,>=1.21.1 in /opt/anaconda3/lib/python3.12/site-packages (from requests->transformers) (2.2.3)\n",
      "Requirement already satisfied: certifi>=2017.4.17 in /opt/anaconda3/lib/python3.12/site-packages (from requests->transformers) (2024.8.30)\n"
     ]
    }
   ],
   "source": [
    "!pip install transformers"
   ]
  },
  {
   "cell_type": "code",
   "execution_count": 3,
   "id": "f102b57f-ac60-478c-ad35-8feb362eae69",
   "metadata": {},
   "outputs": [
    {
     "name": "stdout",
     "output_type": "stream",
     "text": [
      "Requirement already satisfied: torch in /opt/anaconda3/lib/python3.12/site-packages (2.6.0)\n",
      "Requirement already satisfied: torchvision in /opt/anaconda3/lib/python3.12/site-packages (0.21.0)\n",
      "Requirement already satisfied: filelock in /opt/anaconda3/lib/python3.12/site-packages (from torch) (3.13.1)\n",
      "Requirement already satisfied: typing-extensions>=4.10.0 in /opt/anaconda3/lib/python3.12/site-packages (from torch) (4.11.0)\n",
      "Requirement already satisfied: networkx in /opt/anaconda3/lib/python3.12/site-packages (from torch) (3.3)\n",
      "Requirement already satisfied: jinja2 in /opt/anaconda3/lib/python3.12/site-packages (from torch) (3.1.4)\n",
      "Requirement already satisfied: fsspec in /opt/anaconda3/lib/python3.12/site-packages (from torch) (2024.6.1)\n",
      "Requirement already satisfied: setuptools in /opt/anaconda3/lib/python3.12/site-packages (from torch) (75.1.0)\n",
      "Requirement already satisfied: sympy==1.13.1 in /opt/anaconda3/lib/python3.12/site-packages (from torch) (1.13.1)\n",
      "Requirement already satisfied: mpmath<1.4,>=1.1.0 in /opt/anaconda3/lib/python3.12/site-packages (from sympy==1.13.1->torch) (1.3.0)\n",
      "Requirement already satisfied: numpy in /opt/anaconda3/lib/python3.12/site-packages (from torchvision) (1.26.4)\n",
      "Requirement already satisfied: pillow!=8.3.*,>=5.3.0 in /opt/anaconda3/lib/python3.12/site-packages (from torchvision) (10.4.0)\n",
      "Requirement already satisfied: MarkupSafe>=2.0 in /opt/anaconda3/lib/python3.12/site-packages (from jinja2->torch) (2.1.3)\n",
      "Note: you may need to restart the kernel to use updated packages.\n"
     ]
    }
   ],
   "source": [
    "pip install torch torchvision"
   ]
  },
  {
   "cell_type": "code",
   "execution_count": 92,
   "id": "665a3046-5565-4dcb-a494-0cfa8bbcee5a",
   "metadata": {},
   "outputs": [],
   "source": [
    "import torch\n",
    "import os\n",
    "import pandas as pd\n",
    "import numpy as np\n",
    "import csv\n",
    "import time"
   ]
  },
  {
   "cell_type": "code",
   "execution_count": 82,
   "id": "8ba549d6",
   "metadata": {},
   "outputs": [
    {
     "name": "stderr",
     "output_type": "stream",
     "text": [
      "Some weights of the model checkpoint at dslim/bert-base-NER were not used when initializing BertForTokenClassification: ['bert.pooler.dense.bias', 'bert.pooler.dense.weight']\n",
      "- This IS expected if you are initializing BertForTokenClassification from the checkpoint of a model trained on another task or with another architecture (e.g. initializing a BertForSequenceClassification model from a BertForPreTraining model).\n",
      "- This IS NOT expected if you are initializing BertForTokenClassification from the checkpoint of a model that you expect to be exactly identical (initializing a BertForSequenceClassification model from a BertForSequenceClassification model).\n",
      "Device set to use mps:0\n"
     ]
    }
   ],
   "source": [
    "from transformers import AutoTokenizer, AutoModelForTokenClassification\n",
    "from transformers import pipeline\n",
    "\n",
    "# a finetuned BERT model for NER on CoLL-2003 Named Entity Recognition\n",
    "# https://huggingface.co/dslim/bert-base-NER\n",
    "model_name = 'dslim/bert-base-NER'\n",
    "\n",
    "\n",
    "tokenizer = AutoTokenizer.from_pretrained(model_name)\n",
    "model = AutoModelForTokenClassification.from_pretrained(model_name)\n",
    "\n",
    "nlp = pipeline(\n",
    "    \"ner\", model=model, \n",
    "    tokenizer=tokenizer, \n",
    "    device=0   # the gpu id to use. If no gpu available, set it to -1. Setting it to 0/1/2/3... indicates using the corresponding gpu\n",
    "              )"
   ]
  },
  {
   "cell_type": "code",
   "execution_count": 83,
   "id": "1d73d85a",
   "metadata": {
    "scrolled": true
   },
   "outputs": [
    {
     "data": {
      "text/plain": [
       "[[{'entity': 'B-PER',\n",
       "   'score': 0.999311,\n",
       "   'index': 1,\n",
       "   'word': 'Wolfgang',\n",
       "   'start': 0,\n",
       "   'end': 8},\n",
       "  {'entity': 'B-LOC',\n",
       "   'score': 0.9995962,\n",
       "   'index': 4,\n",
       "   'word': 'Berlin',\n",
       "   'start': 18,\n",
       "   'end': 24}],\n",
       " [],\n",
       " [{'entity': 'B-PER',\n",
       "   'score': 0.99702424,\n",
       "   'index': 1,\n",
       "   'word': 'Elizabeth',\n",
       "   'start': 0,\n",
       "   'end': 9}],\n",
       " [{'entity': 'B-LOC',\n",
       "   'score': 0.9993932,\n",
       "   'index': 1,\n",
       "   'word': 'Tennessee',\n",
       "   'start': 0,\n",
       "   'end': 9}],\n",
       " [{'entity': 'B-LOC',\n",
       "   'score': 0.9972753,\n",
       "   'index': 4,\n",
       "   'word': 'Boston',\n",
       "   'start': 15,\n",
       "   'end': 21}]]"
      ]
     },
     "execution_count": 83,
     "metadata": {},
     "output_type": "execute_result"
    }
   ],
   "source": [
    "# NER on three examples\n",
    "ner_results = nlp(['Wolfgang lives in Berlin',\n",
    "                  'Queen is a nurse',\n",
    "                  'Elizabeth is eating food',\n",
    "                  'Tennessee is a nurse',\n",
    "                  'Queen lives in Boston'])\n",
    "\n",
    "ner_results"
   ]
  },
  {
   "cell_type": "markdown",
   "id": "ae61b01e",
   "metadata": {},
   "source": [
    "#### In the 1st sentence, 'Wolfgang' is recognized as PERSON, and Berlin is recoginized as LOCATION. \n",
    "#### In the 2nd sentence, no entity is detected as an empty list is returned, while \"Queen\" is a female name and should be recognized as PERSON.\n",
    "#### In the 3rd sentence, 'Elizabeth' is recognized as PERSON, which is correct.\n",
    "#### In the 4th sentence, 'Tennessee' (a female name) is recognized as LOCATION, which is wrong.\n",
    "#### In the 5th sentence, the model only detects \"Boston\" which is a LOCATION but misses \"Queen\" which is PERSON."
   ]
  },
  {
   "cell_type": "markdown",
   "id": "958bc7ca",
   "metadata": {},
   "source": [
    "## Utility Functions"
   ]
  },
  {
   "cell_type": "markdown",
   "id": "a651f70b",
   "metadata": {},
   "source": [
    "### Reformat the model predictions\n",
    "Implement a function to reformat the model predictions on the names from a list of sentences. Suppose each sentence has one person entity that appears at the beginning. In the example shown above, convert ner_results to \\[B-PER, O, B-PER, B-LOC, O\\]. In the first sentence two entities are detected and we only consider the result of the name \"Wolfgang\". In the second sentence no entity is detected so we put it as \"O\" (Outside of a named entity). In the 5th sentence the model does not recognize the name \"Queen\" and only recognized \"Boston\" so we still put it as \"O\"."
   ]
  },
  {
   "cell_type": "code",
   "execution_count": 84,
   "id": "0e8933b6",
   "metadata": {},
   "outputs": [],
   "source": [
    "def reformat_ner_results(ner_results):\n",
    "    '''\n",
    "    :param ner_results. The outputs from the model. The format can be seen above.\n",
    "    return: a list of recognized entities for the name in each sentence\n",
    "    '''\n",
    "    \n",
    "    # TODO. 5pts.\n",
    "    reformatted_list = []\n",
    "\n",
    "    # for i in ner_results:\n",
    "    #     if i and i[0][\"index\"] == 1:                   # checking if list is empty AND checking word at the beginning of sentence (where index = 1)\n",
    "    #         reformatted_list.append(i[0][\"entity\"])    # looks at first dictionary in each list and appends entity results\n",
    "        \n",
    "    #     else:                                          \n",
    "    #         reformatted_list.append(\"O\")\n",
    "        \n",
    "    if ner_results and not isinstance(ner_results[0], list):\n",
    "    # If it's a single result (list of dictionaries), wrap it in a list\n",
    "        ner_results = [ner_results]\n",
    "    \n",
    "    for i in ner_results:\n",
    "        if i and len(i) > 0 and \"index\" in i[0] and i[0][\"index\"] == 1:\n",
    "            reformatted_list.append(i[0][\"entity\"])\n",
    "        else:\n",
    "            reformatted_list.append(\"O\")                    # if list is empty, we return O\n",
    "\n",
    "    \n",
    "    return reformatted_list"
   ]
  },
  {
   "cell_type": "code",
   "execution_count": 85,
   "id": "9a84adfb-95fd-4241-add3-7b4ce7e063d6",
   "metadata": {},
   "outputs": [
    {
     "name": "stdout",
     "output_type": "stream",
     "text": [
      "['B-PER', 'O', 'B-PER', 'B-LOC', 'O']\n"
     ]
    }
   ],
   "source": [
    "print(reformat_ner_results(ner_results))"
   ]
  },
  {
   "cell_type": "markdown",
   "id": "708ae328",
   "metadata": {},
   "source": [
    "### Metrics\n",
    "\n",
    "#### Here we implement the three types of errors defined in the [paper](https://dl.acm.org/doi/pdf/10.1145/3372923.3404804). <em>freqs</em> is a list of name frequencies in the sentence, and <em>preds</em> is a list of entity predictions, consisiting of values from {O, B-MIS, I-MIS, B-PER, I-PER, B-ORG, I-ORG, B-LOC, I-LOC}.\n",
    "#### If the prediction is \"B-PER\" or \"I-PERSON\", we consider it to be correct."
   ]
  },
  {
   "cell_type": "markdown",
   "id": "b74a04a0-b7af-4868-ac96-fdba18319f6c",
   "metadata": {},
   "source": [
    "From my research, here is what I've found about Type 1, 2, and 3 errors (this is for my own use; it helps me in my coding process). \n",
    "\n",
    "Type 1: false positives; rejecting null when its true \\\n",
    "Type 2: false negatives; failing to reject null when it is false \\\n",
    "Type 3: wrong conclusions; correctly reject null, but draw wrong conlclusion"
   ]
  },
  {
   "cell_type": "code",
   "execution_count": 86,
   "id": "adc68958",
   "metadata": {},
   "outputs": [],
   "source": [
    "def type1_error_weighted(freqs, preds):\n",
    "    '''\n",
    "    return: a float number of the weighted type 1 error.\n",
    "    '''\n",
    "    # TODO. 10pts\n",
    "    # type 1 -> according the paper, any name not tagged as a PERSON is considered to be an error\n",
    "    \n",
    "    # sum of frequencies\n",
    "    total_freq = sum(freqs)\n",
    "\n",
    "    # error variable\n",
    "    error = 0\n",
    "\n",
    "    # iterating through all lists together to maintain index consistency\n",
    "    for freq, pred in zip(freqs, preds):\n",
    "        if pred not in {\"B-PER\", \"I-PER\"}:         # getting predictions where person was identified\n",
    "            error += freq                          # frequency at the index is added to error\n",
    "\n",
    "    if total_freq > 0:                # preventing potential division by 0 error\n",
    "        return error/total_freq\n",
    "\n",
    "    else:\n",
    "        return 0\n",
    "\n",
    "    \n",
    "def type2_error_weighted(freqs, preds):\n",
    "    '''\n",
    "    return: a float number of the weighted type 2 error\n",
    "    '''\n",
    "    # TODO. 10pts\n",
    "    # type 2 -> according to paper, reports the percentage of names that are tagged as non-PERSON entities among all the names \n",
    "\n",
    "    # sum of frequencies\n",
    "    total_freq = sum(freqs)\n",
    "\n",
    "    # error variable\n",
    "    error = 0\n",
    "\n",
    "    # iterating through all lists together to maintain index consistency\n",
    "    for freq, pred in zip(freqs, preds):\n",
    "       if pred != \"O\" and pred not in {\"B-PER\", \"I-PER\"}:      # getting predictions that ARE an entity (not O), but not a person entity (EX: B-LOC)\n",
    "            error += freq                                      # frequency at the index is added to error\n",
    "\n",
    "    if total_freq > 0:                # preventing potential division by 0 error\n",
    "        return error/total_freq\n",
    "\n",
    "    else:\n",
    "        return 0\n",
    "\n",
    "\n",
    "    \n",
    "def type3_error_weighted(freqs, preds):\n",
    "    '''\n",
    "    return: a float number of the weighted type 3 error\n",
    "    '''\n",
    "    # TODO. 10pts\n",
    "    # type 3 -> according to the paper, reports the percentage of names that are not tagged at all among all the names\n",
    "    \n",
    "    # sum of frequencies\n",
    "    total_freq = sum(freqs)\n",
    "\n",
    "    # error variable\n",
    "    error = 0\n",
    "\n",
    "    # iterating through all lists together to maintain index consistency\n",
    "    for freq, pred in zip(freqs, preds):\n",
    "        if pred == \"O\":                                        # getting predictions that ARE a non entity = O\n",
    "            error += freq                                      # frequency at the index is added to error\n",
    "\n",
    "    if total_freq > 0:                # preventing potential division by 0 error\n",
    "        return error/total_freq\n",
    "\n",
    "    else:\n",
    "        return 0"
   ]
  },
  {
   "cell_type": "code",
   "execution_count": 87,
   "id": "a0852cfc",
   "metadata": {},
   "outputs": [
    {
     "name": "stdout",
     "output_type": "stream",
     "text": [
      "0.4578313253012048 0.3373493975903614 0.12048192771084337\n",
      "0.7037037037037037 0.14814814814814814 0.5555555555555556\n"
     ]
    }
   ],
   "source": [
    "# Test cases\n",
    "# Do NOT change the code below!\n",
    "\n",
    "freqs1 = [10, 20, 30, 15, 8]\n",
    "preds1 = ['O', 'B-MIS', 'I-PER', 'B-PER', 'B-LOC']\n",
    "print(type1_error_weighted(freqs1, preds1), type2_error_weighted(freqs1, preds1), type3_error_weighted(freqs1, preds1))\n",
    "\n",
    "\n",
    "freqs2 = [5, 8, 3, 7, 4]\n",
    "preds2 = ['B-PER', 'O', 'I-PER', 'O', 'B-LOC']\n",
    "print(type1_error_weighted(freqs2, preds2), type2_error_weighted(freqs2, preds2), type3_error_weighted(freqs2, preds2))"
   ]
  },
  {
   "cell_type": "markdown",
   "id": "5a5cc3ee",
   "metadata": {},
   "source": [
    "## NER Inference"
   ]
  },
  {
   "cell_type": "code",
   "execution_count": 88,
   "id": "ef5bdc4c-d5c4-489e-945d-24447b45c3dd",
   "metadata": {},
   "outputs": [
    {
     "data": {
      "text/plain": [
       "'/Users/nandininag/Desktop/DSCI 531/DSCI-531-homework3/data_processed'"
      ]
     },
     "execution_count": 88,
     "metadata": {},
     "output_type": "execute_result"
    }
   ],
   "source": [
    "os.getcwd()\n",
    "# os.chdir(\"../DSCI-531-homework3/data_processed\")\n",
    "# os.getcwd()"
   ]
  },
  {
   "cell_type": "code",
   "execution_count": 90,
   "id": "8a17d767",
   "metadata": {},
   "outputs": [],
   "source": [
    "def ner_inference_errors(year, gender, template_idx):\n",
    "    '''\n",
    "    year: int.\n",
    "    gender: str. \"male\" or \"female\"\n",
    "    template_idx: int. 1 to 9\n",
    "    return: the three errors for year, gender, and the template\n",
    "    '''\n",
    "    \n",
    "    # load data from the corresponding file. \n",
    "    # texts is a list of sentences, \n",
    "    # freqs is a list of name frequencies in each sentence\n",
    "    # TODO. 4pts\n",
    "\n",
    "\n",
    "    # empty lists for storing data\n",
    "    text_list = []\n",
    "    freq_list = []\n",
    "    pred_list = []\n",
    "\n",
    "    \n",
    "    # loading data from correct file paths\n",
    "    template_path = os.path.join(os.getcwd(), f\"Template_{template_idx}\")\n",
    "    file_path = os.path.join(template_path, f\"{gender}{year}.txt\")\n",
    "\n",
    "    # reading the file path\n",
    "    with open(file_path, \"r\") as filename:\n",
    "        csv_reader = csv.DictReader(filename)\n",
    "        \n",
    "        for row in csv_reader:\n",
    "            texts = row[\"text\"]\n",
    "            freqs = int(row[\"freq\"])\n",
    "    \n",
    "            # inference named entities and reformat the model outputs.\n",
    "            # TODO. 6pts\n",
    "            raw_preds = nlp(texts)\n",
    "\n",
    "            # print(f\"Raw predictions for '{texts}': {raw_preds}\")  # debugging \n",
    "            \n",
    "            preds = reformat_ner_results(raw_preds)\n",
    "\n",
    "            # print(preds)\n",
    "            \n",
    "            # appending to lists\n",
    "            text_list.append(texts)\n",
    "            freq_list.append(freqs)\n",
    "\n",
    "            # checking if it's in list format\n",
    "            # i was getting a key error having to do with indexing\n",
    "            # trying to extract string from the list\n",
    "            \n",
    "            if preds and isinstance(preds, list):\n",
    "                pred_list.append(preds[0])  # get the first and only string item from the list\n",
    "            else:\n",
    "                pred_list.append(\"O\")\n",
    "\n",
    "            # pred_list.append(preds)\n",
    "\n",
    "    # calculating and returning errors   \n",
    "    return type1_error_weighted(freq_list, pred_list), type2_error_weighted(freq_list, pred_list), type3_error_weighted(freq_list, pred_list)"
   ]
  },
  {
   "cell_type": "markdown",
   "id": "081648cb",
   "metadata": {},
   "source": [
    "## Template 1 Analysis"
   ]
  },
  {
   "cell_type": "markdown",
   "id": "1b4f4649-1996-4336-a4c4-8edd4bf55470",
   "metadata": {},
   "source": [
    "Thought process:\n",
    "1. for each template, loop through data from years 1880 to 2019\n",
    "2. compute type 1, 2, 3 errors for both male and female\n",
    "3. store errors in variables given in list format\n",
    "4. plot errors"
   ]
  },
  {
   "cell_type": "code",
   "execution_count": 93,
   "id": "28bdc005",
   "metadata": {
    "scrolled": true
   },
   "outputs": [
    {
     "name": "stdout",
     "output_type": "stream",
     "text": [
      "Year 1880: 13.8050 seconds\n",
      "Year 1881: 13.3422 seconds\n",
      "Year 1882: 14.0887 seconds\n",
      "Year 1883: 13.9721 seconds\n",
      "Year 1884: 14.4855 seconds\n",
      "Year 1885: 15.0311 seconds\n",
      "Year 1886: 14.8616 seconds\n",
      "Year 1887: 15.6927 seconds\n",
      "Year 1888: 15.8399 seconds\n",
      "Year 1889: 15.2838 seconds\n",
      "Year 1890: 15.9571 seconds\n",
      "Year 1891: 15.6004 seconds\n",
      "Year 1892: 16.6358 seconds\n",
      "Year 1893: 16.1106 seconds\n",
      "Year 1894: 16.0163 seconds\n",
      "Year 1895: 16.6792 seconds\n",
      "Year 1896: 17.0208 seconds\n",
      "Year 1897: 16.7374 seconds\n",
      "Year 1898: 17.4240 seconds\n",
      "Year 1899: 16.6128 seconds\n",
      "Year 1900: 18.7596 seconds\n",
      "Year 1901: 17.2571 seconds\n",
      "Year 1902: 17.3350 seconds\n",
      "Year 1903: 17.3475 seconds\n",
      "Year 1904: 18.2135 seconds\n",
      "Year 1905: 18.3018 seconds\n",
      "Year 1906: 18.5296 seconds\n",
      "Year 1907: 19.2420 seconds\n",
      "Year 1908: 19.4664 seconds\n",
      "Year 1909: 19.6201 seconds\n",
      "Year 1910: 21.0715 seconds\n",
      "Year 1911: 21.5053 seconds\n",
      "Year 1912: 24.9838 seconds\n",
      "Year 1913: 26.5784 seconds\n",
      "Year 1914: 28.3277 seconds\n",
      "Year 1915: 30.3028 seconds\n",
      "Year 1916: 30.4964 seconds\n",
      "Year 1917: 30.6634 seconds\n",
      "Year 1918: 31.6670 seconds\n",
      "Year 1919: 30.7884 seconds\n",
      "Year 1920: 31.5797 seconds\n",
      "Year 1921: 31.3845 seconds\n",
      "Year 1922: 31.3879 seconds\n",
      "Year 1923: 31.9192 seconds\n",
      "Year 1924: 32.0122 seconds\n",
      "Year 1925: 31.7892 seconds\n",
      "Year 1926: 31.8695 seconds\n",
      "Year 1927: 32.0764 seconds\n",
      "Year 1928: 31.0689 seconds\n",
      "Year 1929: 31.2207 seconds\n",
      "Year 1930: 31.0100 seconds\n",
      "Year 1931: 30.7114 seconds\n",
      "Year 1932: 30.6712 seconds\n",
      "Year 1933: 29.7675 seconds\n",
      "Year 1934: 29.8872 seconds\n",
      "Year 1935: 29.8884 seconds\n",
      "Year 1936: 29.8923 seconds\n",
      "Year 1937: 30.1865 seconds\n",
      "Year 1938: 30.0348 seconds\n",
      "Year 1939: 30.2924 seconds\n",
      "Year 1940: 30.4695 seconds\n",
      "Year 1941: 30.5849 seconds\n",
      "Year 1942: 31.7277 seconds\n",
      "Year 1943: 31.1847 seconds\n",
      "Year 1944: 30.4712 seconds\n",
      "Year 1945: 29.9826 seconds\n",
      "Year 1946: 31.1642 seconds\n",
      "Year 1947: 32.1725 seconds\n",
      "Year 1948: 32.1125 seconds\n",
      "Year 1949: 32.0933 seconds\n",
      "Year 1950: 32.5323 seconds\n",
      "Year 1951: 32.3580 seconds\n",
      "Year 1952: 33.3731 seconds\n",
      "Year 1953: 33.0146 seconds\n",
      "Year 1954: 33.3309 seconds\n",
      "Year 1955: 33.4854 seconds\n",
      "Year 1956: 33.8312 seconds\n",
      "Year 1957: 34.3334 seconds\n",
      "Year 1958: 34.7355 seconds\n",
      "Year 1959: 34.4243 seconds\n",
      "Year 1960: 33.9793 seconds\n",
      "Year 1961: 34.7151 seconds\n",
      "Year 1962: 34.8880 seconds\n",
      "Year 1963: 34.4429 seconds\n",
      "Year 1964: 34.9663 seconds\n",
      "Year 1965: 34.1841 seconds\n",
      "Year 1966: 35.2263 seconds\n",
      "Year 1967: 35.2698 seconds\n",
      "Year 1968: 36.4894 seconds\n",
      "Year 1969: 38.2396 seconds\n",
      "Year 1970: 37.7774 seconds\n",
      "Year 1971: 37.1273 seconds\n",
      "Year 1972: 36.8133 seconds\n",
      "Year 1973: 36.8665 seconds\n",
      "Year 1974: 36.6020 seconds\n",
      "Year 1975: 37.0282 seconds\n",
      "Year 1976: 37.6246 seconds\n",
      "Year 1977: 38.1623 seconds\n",
      "Year 1978: 38.1070 seconds\n",
      "Year 1979: 38.5286 seconds\n",
      "Year 1980: 39.4563 seconds\n",
      "Year 1981: 39.4536 seconds\n",
      "Year 1982: 39.4349 seconds\n",
      "Year 1983: 39.8057 seconds\n",
      "Year 1984: 39.3784 seconds\n",
      "Year 1985: 40.3011 seconds\n",
      "Year 1986: 40.9388 seconds\n",
      "Year 1987: 40.7196 seconds\n",
      "Year 1988: 41.6458 seconds\n",
      "Year 1989: 41.4296 seconds\n",
      "Year 1990: 41.2712 seconds\n",
      "Year 1991: 40.8964 seconds\n",
      "Year 1992: 40.5117 seconds\n",
      "Year 1993: 41.2625 seconds\n",
      "Year 1994: 40.8805 seconds\n",
      "Year 1995: 40.9181 seconds\n",
      "Year 1996: 40.9723 seconds\n",
      "Year 1997: 40.7054 seconds\n",
      "Year 1998: 44.4758 seconds\n",
      "Year 1999: 42.5482 seconds\n",
      "Year 2000: 42.3279 seconds\n",
      "Year 2001: 45.8612 seconds\n",
      "Year 2002: 45.7160 seconds\n",
      "Year 2003: 43.4326 seconds\n",
      "Year 2004: 45.2771 seconds\n",
      "Year 2005: 43.9807 seconds\n",
      "Year 2006: 43.0484 seconds\n",
      "Year 2007: 43.4523 seconds\n",
      "Year 2008: 43.2833 seconds\n",
      "Year 2009: 44.7227 seconds\n",
      "Year 2010: 43.0215 seconds\n",
      "Year 2011: 43.7121 seconds\n",
      "Year 2012: 43.5162 seconds\n",
      "Year 2013: 42.9122 seconds\n",
      "Year 2014: 43.9921 seconds\n",
      "Year 2015: 45.4377 seconds\n",
      "Year 2016: 46.2145 seconds\n",
      "Year 2017: 45.6547 seconds\n",
      "Year 2018: 45.6055 seconds\n"
     ]
    }
   ],
   "source": [
    "years = list(range(1880, 2019))\n",
    "\n",
    "# the three types of errors for male and female\n",
    "# each one should be a list of errors for years of 1880 to 2019\n",
    "\n",
    "# TODO. 2pts\n",
    "\n",
    "type1_errors_male = []\n",
    "type1_errors_female = []\n",
    "\n",
    "type2_errors_male = []\n",
    "type2_errors_female = []\n",
    "\n",
    "type3_errors_male = []\n",
    "type3_errors_female = []\n",
    "\n",
    "# looping through the years\n",
    "for year in years:\n",
    "    start_time = time.perf_counter()\n",
    "    # print(year)\n",
    "\n",
    "    # female data\n",
    "    female_T1, female_T2, female_T3 = ner_inference_errors(year, \"female\", 1)\n",
    "    type1_errors_female.append(female_T1)\n",
    "    type2_errors_female.append(female_T2)\n",
    "    type3_errors_female.append(female_T3)\n",
    "\n",
    "    # male data\n",
    "    male_T1, male_T2, male_T3 = ner_inference_errors(year, \"male\", 1)\n",
    "    type1_errors_male.append(male_T1)\n",
    "    type2_errors_male.append(male_T2)\n",
    "    type3_errors_male.append(male_T3)\n",
    "\n",
    "    elapsed_time = time.perf_counter() - start_time\n",
    "    print(f\"Year {year}: {elapsed_time:.4f} seconds\")"
   ]
  },
  {
   "cell_type": "code",
   "execution_count": 98,
   "id": "148c4044-bdf9-4a8c-b703-6b3465da1023",
   "metadata": {},
   "outputs": [
    {
     "data": {
      "text/plain": [
       "<matplotlib.legend.Legend at 0x290215d00>"
      ]
     },
     "execution_count": 98,
     "metadata": {},
     "output_type": "execute_result"
    },
    {
     "data": {
      "image/png": "[encoded data removed]",
      "text/plain": [
       "<Figure size 2000x400 with 3 Axes>"
      ]
     },
     "metadata": {},
     "output_type": "display_data"
    }
   ],
   "source": [
    "# visualize the three types of erros using the variables above.\n",
    "# make three different figures\n",
    "# Refer to Figure 2 of the paper\n",
    "\n",
    "import matplotlib.pyplot as plt\n",
    "# TODO. 3pts\n",
    "\n",
    "plt.figure(figsize=(20, 4))\n",
    "\n",
    "# Type 1 \n",
    "plt.subplot(1, 3, 1)\n",
    "plt.plot(years, type1_errors_male, label=\"Male\", color=\"blue\")\n",
    "plt.plot(years, type1_errors_female, label=\"Female\", color=\"pink\")\n",
    "plt.xlabel(\"Year\")\n",
    "plt.ylabel(\"Type 1 Error\")\n",
    "plt.title(f\"Type 1 Errors Over Time (Template 1)\")\n",
    "plt.legend()\n",
    "\n",
    "\n",
    "# Type 2 \n",
    "plt.subplot(1, 3, 2)\n",
    "plt.plot(years, type2_errors_male, label=\"Male\", color=\"blue\")\n",
    "plt.plot(years, type2_errors_female, label=\"Female\", color=\"pink\")\n",
    "plt.xlabel(\"Year\")\n",
    "plt.ylabel(\"Type 2 Error\")\n",
    "plt.title(f\"Type 2 Errors Over Time (Template 1)\")\n",
    "plt.legend()\n",
    "\n",
    "# Type 3 \n",
    "plt.subplot(1, 3, 3)\n",
    "plt.plot(years, type3_errors_male, label=\"Male\", color=\"blue\")\n",
    "plt.plot(years, type3_errors_female, label=\"Female\", color=\"pink\")\n",
    "plt.xlabel(\"Year\")\n",
    "plt.ylabel(\"Type 3 Error\")\n",
    "plt.title(f\"Type 3 Errors Over Time (Template 1)\")\n",
    "plt.legend()"
   ]
  },
  {
   "cell_type": "markdown",
   "id": "d5396a33",
   "metadata": {},
   "source": [
    "## Template 2 Analysis"
   ]
  },
  {
   "cell_type": "code",
   "execution_count": null,
   "id": "346b0065",
   "metadata": {},
   "outputs": [],
   "source": [
    "years = list(range(1880, 2019))\n",
    "\n",
    "# the three types of errors for male and female\n",
    "# each one should be a list of errors for years of 1880 to 2019\n",
    "\n",
    "# TODO. 2pts\n",
    "\n",
    "type1_errors_male = \n",
    "type1_errors_female = \n",
    "\n",
    "type2_errors_male = \n",
    "type2_errors_female = \n",
    "\n",
    "type3_errors_male = \n",
    "type3_errors_female = \n",
    "\n",
    "\n",
    "# visualize the three types of erros using the variables above.\n",
    "# make three different figures\n",
    "# Refer to Figure 2 of the paper\n",
    "\n",
    "import matplotlib.pyplot as plt\n",
    "# TODO. 3pts"
   ]
  },
  {
   "cell_type": "markdown",
   "id": "be243584",
   "metadata": {},
   "source": [
    "## Template 3 Analysis"
   ]
  },
  {
   "cell_type": "code",
   "execution_count": null,
   "id": "3f8efcce",
   "metadata": {},
   "outputs": [],
   "source": [
    "years = list(range(1880, 2019))\n",
    "\n",
    "# the three types of errors for male and female\n",
    "# each one should be a list of errors for years of 1880 to 2019\n",
    "\n",
    "# TODO. 2pts\n",
    "\n",
    "type1_errors_male = \n",
    "type1_errors_female = \n",
    "\n",
    "type2_errors_male = \n",
    "type2_errors_female = \n",
    "\n",
    "type3_errors_male = \n",
    "type3_errors_female = \n",
    "\n",
    "\n",
    "# visualize the three types of erros using the variables above.\n",
    "# make three different figures\n",
    "# Refer to Figure 2 of the paper\n",
    "\n",
    "import matplotlib.pyplot as plt\n",
    "# TODO. 3pts"
   ]
  },
  {
   "cell_type": "markdown",
   "id": "5bf56c97",
   "metadata": {},
   "source": [
    "## Template 4 Analysis"
   ]
  },
  {
   "cell_type": "code",
   "execution_count": null,
   "id": "016d18c0",
   "metadata": {},
   "outputs": [],
   "source": [
    "years = list(range(1880, 2019))\n",
    "\n",
    "# the three types of errors for male and female\n",
    "# each one should be a list of errors for years of 1880 to 2019\n",
    "\n",
    "# TODO. 2pts\n",
    "\n",
    "type1_errors_male = \n",
    "type1_errors_female = \n",
    "\n",
    "type2_errors_male = \n",
    "type2_errors_female = \n",
    "\n",
    "type3_errors_male = \n",
    "type3_errors_female = \n",
    "\n",
    "\n",
    "# visualize the three types of erros using the variables above.\n",
    "# make three different figures\n",
    "# Refer to Figure 2 of the paper\n",
    "\n",
    "import matplotlib.pyplot as plt\n",
    "# TODO. 3pts"
   ]
  },
  {
   "cell_type": "markdown",
   "id": "6eb8c14b",
   "metadata": {},
   "source": [
    "## Template 5 Analysis"
   ]
  },
  {
   "cell_type": "code",
   "execution_count": null,
   "id": "56c86506",
   "metadata": {},
   "outputs": [],
   "source": [
    "years = list(range(1880, 2019))\n",
    "\n",
    "# the three types of errors for male and female\n",
    "# each one should be a list of errors for years of 1880 to 2019\n",
    "\n",
    "# TODO. 2pts\n",
    "\n",
    "type1_errors_male = \n",
    "type1_errors_female = \n",
    "\n",
    "type2_errors_male = \n",
    "type2_errors_female = \n",
    "\n",
    "type3_errors_male = \n",
    "type3_errors_female = \n",
    "\n",
    "\n",
    "# visualize the three types of erros using the variables above.\n",
    "# make three different figures\n",
    "# Refer to Figure 2 of the paper\n",
    "\n",
    "import matplotlib.pyplot as plt\n",
    "# TODO. 3pts"
   ]
  },
  {
   "cell_type": "markdown",
   "id": "26223933",
   "metadata": {},
   "source": [
    "## Template 6 Analysis"
   ]
  },
  {
   "cell_type": "code",
   "execution_count": null,
   "id": "4a836c1d",
   "metadata": {},
   "outputs": [],
   "source": [
    "years = list(range(1880, 2019))\n",
    "\n",
    "# the three types of errors for male and female\n",
    "# each one should be a list of errors for years of 1880 to 2019\n",
    "\n",
    "# TODO. 2pts\n",
    "\n",
    "type1_errors_male = \n",
    "type1_errors_female = \n",
    "\n",
    "type2_errors_male = \n",
    "type2_errors_female = \n",
    "\n",
    "type3_errors_male = \n",
    "type3_errors_female = \n",
    "\n",
    "\n",
    "# visualize the three types of erros using the variables above.\n",
    "# make three different figures\n",
    "# Refer to Figure 2 of the paper\n",
    "\n",
    "import matplotlib.pyplot as plt\n",
    "# TODO. 3pts"
   ]
  },
  {
   "cell_type": "markdown",
   "id": "08976090",
   "metadata": {},
   "source": [
    "## Template 7 Analysis"
   ]
  },
  {
   "cell_type": "code",
   "execution_count": null,
   "id": "7c0f58c2",
   "metadata": {},
   "outputs": [],
   "source": [
    "years = list(range(1880, 2019))\n",
    "\n",
    "# the three types of errors for male and female\n",
    "# each one should be a list of errors for years of 1880 to 2019\n",
    "\n",
    "# TODO. 2pts\n",
    "\n",
    "type1_errors_male = \n",
    "type1_errors_female = \n",
    "\n",
    "type2_errors_male = \n",
    "type2_errors_female = \n",
    "\n",
    "type3_errors_male = \n",
    "type3_errors_female = \n",
    "\n",
    "\n",
    "# visualize the three types of erros using the variables above.\n",
    "# make three different figures\n",
    "# Refer to Figure 2 of the paper\n",
    "\n",
    "import matplotlib.pyplot as plt\n",
    "# TODO. 3pts"
   ]
  },
  {
   "cell_type": "markdown",
   "id": "946b781b",
   "metadata": {},
   "source": [
    "## Template 8 Analysis"
   ]
  },
  {
   "cell_type": "code",
   "execution_count": null,
   "id": "bb16ece2",
   "metadata": {},
   "outputs": [],
   "source": [
    "years = list(range(1880, 2019))\n",
    "\n",
    "# the three types of errors for male and female\n",
    "# each one should be a list of errors for years of 1880 to 2019\n",
    "\n",
    "# TODO. 2pts\n",
    "\n",
    "type1_errors_male = \n",
    "type1_errors_female = \n",
    "\n",
    "type2_errors_male = \n",
    "type2_errors_female = \n",
    "\n",
    "type3_errors_male = \n",
    "type3_errors_female = \n",
    "\n",
    "\n",
    "# visualize the three types of erros using the variables above.\n",
    "# make three different figures\n",
    "# Refer to Figure 2 of the paper\n",
    "\n",
    "import matplotlib.pyplot as plt\n",
    "# TODO. 3pts"
   ]
  },
  {
   "cell_type": "markdown",
   "id": "7b165959",
   "metadata": {},
   "source": [
    "## Template 9 Analysis"
   ]
  },
  {
   "cell_type": "code",
   "execution_count": null,
   "id": "6d77f763",
   "metadata": {},
   "outputs": [],
   "source": [
    "years = list(range(1880, 2019))\n",
    "\n",
    "# the three types of errors for male and female\n",
    "# each one should be a list of errors for years of 1880 to 2019\n",
    "\n",
    "# TODO. 2pts\n",
    "\n",
    "type1_errors_male = \n",
    "type1_errors_female = \n",
    "\n",
    "type2_errors_male = \n",
    "type2_errors_female = \n",
    "\n",
    "type3_errors_male = \n",
    "type3_errors_female = \n",
    "\n",
    "\n",
    "# visualize the three types of erros using the variables above.\n",
    "# make three different figures\n",
    "# Refer to Figure 2 of the paper\n",
    "\n",
    "import matplotlib.pyplot as plt\n",
    "# TODO. 3pts"
   ]
  },
  {
   "cell_type": "markdown",
   "id": "f31bc8ae",
   "metadata": {},
   "source": [
    "### According to the plots you make, do you observe difference in the ability to recognize male and female names as PERSON entity types? How does the difference change over years? How does the difference change across different templates? Checking some error cases, where do you think the bias might come from? Can you think of any possible ways to mitigate the bias? 10pts.\n",
    "\n",
    "#### <font color=\"red\">Please type your response here.</font>\n",
    "#### ***************"
   ]
  },
  {
   "cell_type": "code",
   "execution_count": null,
   "id": "c1482ca1",
   "metadata": {},
   "outputs": [],
   "source": []
  }
 ],
 "metadata": {
  "kernelspec": {
   "display_name": "Python 3 (ipykernel)",
   "language": "python",
   "name": "python3"
  },
  "language_info": {
   "codemirror_mode": {
    "name": "ipython",
    "version": 3
   },
   "file_extension": ".py",
   "mimetype": "text/x-python",
   "name": "python",
   "nbconvert_exporter": "python",
   "pygments_lexer": "ipython3",
   "version": "3.12.7"
  }
 },
 "nbformat": 4,
 "nbformat_minor": 5
}
